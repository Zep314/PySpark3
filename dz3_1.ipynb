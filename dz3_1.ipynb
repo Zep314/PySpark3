{
  "nbformat": 4,
  "nbformat_minor": 0,
  "metadata": {
    "colab": {
      "provenance": []
    },
    "kernelspec": {
      "name": "python3",
      "display_name": "Python 3"
    },
    "language_info": {
      "name": "python"
    }
  },
  "cells": [
    {
      "cell_type": "markdown",
      "source": [
        "# **Spark Apache (Семинары)**\n",
        "## **Урок 3. Инструменты работы и визуализации ч.2**\n",
        "### Задание:\n",
        "1. Условие: есть набор данных о продажах продуктов с информацией о дате продаж, категории продукта, количестве и выручке от продаж.\n",
        "\n",
        "Используя Apache Spark, загрузите предоставленный набор данных в DataFrame (пример данных ниже).\n",
        "\n",
        "(\"2023-11-20\", \"Electronics\", 100, 12000),\n",
        "\n",
        "(\"2023-11-21\", \"Electronics\", 110, 13000),\n",
        "\n",
        "(\"2023-11-22\", \"Electronics\", 105, 12500),\n",
        "\n",
        "(\"2023-11-20\", \"Clothing\", 300, 15000),\n",
        "\n",
        "(\"2023-11-21\", \"Clothing\", 280, 14000),\n",
        "\n",
        "(\"2023-11-22\", \"Clothing\", 320, 16000),\n",
        "\n",
        "(\"2023-11-20\", \"Books\", 150, 9000),\n",
        "\n",
        "(\"2023-11-21\", \"Books\", 200, 12000),\n",
        "\n",
        "(\"2023-11-22\", \"Books\", 180, 10000)\n",
        "\n",
        "Столбцы: \"date\", \"category\", \"quantity\", \"revenue\".\n",
        "\n",
        "С использованием оконных функций, рассчитайте среднее выручки от продаж для каждой категории продукта.\n",
        "Примените операцию pivot для того, чтобы преобразовать полученные данные таким образом, чтобы в качестве строк были категории продуктов, в качестве столбцов были дни, а значениями были средние значения выручки от продаж за соответствующий день"
      ],
      "metadata": {
        "id": "eucfV9ESlFvz"
      }
    },
    {
      "cell_type": "code",
      "execution_count": 95,
      "metadata": {
        "id": "QbgQLcaElCHQ"
      },
      "outputs": [],
      "source": [
        "! pip install pyspark >> /dev/null"
      ]
    },
    {
      "cell_type": "code",
      "source": [
        "# Установка требуемых модулей\n",
        "from pyspark.sql import SparkSession\n",
        "from pyspark.sql.window import Window\n",
        "from pyspark.sql import functions as F"
      ],
      "metadata": {
        "id": "FZiwWz6JlyCX"
      },
      "execution_count": 96,
      "outputs": []
    },
    {
      "cell_type": "code",
      "source": [
        "# Данные для задания\n",
        "data = [ (\"2023-11-20\", \"Electronics\", 100, 12000),\n",
        "(\"2023-11-21\", \"Electronics\", 110, 13000),\n",
        "(\"2023-11-22\", \"Electronics\", 105, 12500),\n",
        "(\"2023-11-20\", \"Clothing\", 300, 15000),\n",
        "(\"2023-11-21\", \"Clothing\", 280, 14000),\n",
        "(\"2023-11-22\", \"Clothing\", 320, 16000),\n",
        "(\"2023-11-20\", \"Books\", 150, 9000),\n",
        "(\"2023-11-21\", \"Books\", 200, 12000),\n",
        "(\"2023-11-22\", \"Books\", 180, 10000)\n",
        "]"
      ],
      "metadata": {
        "id": "9gLtDoKqbUUU"
      },
      "execution_count": 97,
      "outputs": []
    },
    {
      "cell_type": "code",
      "source": [
        "# Установка сессии spark\n",
        "spark = SparkSession.builder.appName('PivotWindowTest').getOrCreate()\n",
        "\n",
        "# Создаем dataframe\n",
        "df_spark = spark.createDataFrame(data=data, schema = [\"date\", \"category\", \"quantity\", \"revenue\"])\n",
        "\n",
        "# Конвертируем строку в тип ДАТА\n",
        "df_spark = df_spark.withColumn('date', F.to_date('date' ))\n",
        "\n",
        "\n",
        "df_spark.show()"
      ],
      "metadata": {
        "colab": {
          "base_uri": "https://localhost:8080/"
        },
        "id": "wUEsz3ZrhzcA",
        "outputId": "b596a13c-3f7c-4bf7-f06f-405a15fb1643"
      },
      "execution_count": 98,
      "outputs": [
        {
          "output_type": "stream",
          "name": "stdout",
          "text": [
            "+----------+-----------+--------+-------+\n",
            "|      date|   category|quantity|revenue|\n",
            "+----------+-----------+--------+-------+\n",
            "|2023-11-20|Electronics|     100|  12000|\n",
            "|2023-11-21|Electronics|     110|  13000|\n",
            "|2023-11-22|Electronics|     105|  12500|\n",
            "|2023-11-20|   Clothing|     300|  15000|\n",
            "|2023-11-21|   Clothing|     280|  14000|\n",
            "|2023-11-22|   Clothing|     320|  16000|\n",
            "|2023-11-20|      Books|     150|   9000|\n",
            "|2023-11-21|      Books|     200|  12000|\n",
            "|2023-11-22|      Books|     180|  10000|\n",
            "+----------+-----------+--------+-------+\n",
            "\n"
          ]
        }
      ]
    },
    {
      "cell_type": "code",
      "source": [
        "#  Определяем окно для расчетов\n",
        "my_window = Window.partitionBy('category').orderBy('date')\n",
        "\n",
        "# Расчитываем среднюю выручку от продажи одной единицы товара за один день в каждой категории товара\n",
        "df_shrink = df_spark.withColumn(\"avg_revenue\", F.round(F.avg(df_spark['revenue']/df_spark['quantity']).over(my_window), 2))\n",
        "\n",
        "df_shrink.show()"
      ],
      "metadata": {
        "colab": {
          "base_uri": "https://localhost:8080/"
        },
        "id": "CtqvUThbcyRA",
        "outputId": "c38ca726-2069-471e-9b26-64a1861bb013"
      },
      "execution_count": 99,
      "outputs": [
        {
          "output_type": "stream",
          "name": "stdout",
          "text": [
            "+----------+-----------+--------+-------+-----------+\n",
            "|      date|   category|quantity|revenue|avg_revenue|\n",
            "+----------+-----------+--------+-------+-----------+\n",
            "|2023-11-20|      Books|     150|   9000|       60.0|\n",
            "|2023-11-21|      Books|     200|  12000|       60.0|\n",
            "|2023-11-22|      Books|     180|  10000|      58.52|\n",
            "|2023-11-20|   Clothing|     300|  15000|       50.0|\n",
            "|2023-11-21|   Clothing|     280|  14000|       50.0|\n",
            "|2023-11-22|   Clothing|     320|  16000|       50.0|\n",
            "|2023-11-20|Electronics|     100|  12000|      120.0|\n",
            "|2023-11-21|Electronics|     110|  13000|     119.09|\n",
            "|2023-11-22|Electronics|     105|  12500|     119.08|\n",
            "+----------+-----------+--------+-------+-----------+\n",
            "\n"
          ]
        }
      ]
    },
    {
      "cell_type": "code",
      "source": [
        "# Расчитываем сводную таблицу по полученным данным.\n",
        "# В качестве строк - категории товаров, в качестве столбцов - даты продажи,\n",
        "#    в качестве значений - средняя выручка от продажи\n",
        "#    соответсвующего товара в соответствующий день\n",
        "\n",
        "df_shrink = df_shrink.groupBy('category').pivot('date').agg({'avg_revenue':'avg'})\n",
        "\n",
        "df_shrink.show()"
      ],
      "metadata": {
        "colab": {
          "base_uri": "https://localhost:8080/"
        },
        "id": "c993XDTc6-Mv",
        "outputId": "5414a3c5-967f-41a7-de9e-94927eafeca0"
      },
      "execution_count": 100,
      "outputs": [
        {
          "output_type": "stream",
          "name": "stdout",
          "text": [
            "+-----------+----------+----------+----------+\n",
            "|   category|2023-11-20|2023-11-21|2023-11-22|\n",
            "+-----------+----------+----------+----------+\n",
            "|      Books|      60.0|      60.0|     58.52|\n",
            "|   Clothing|      50.0|      50.0|      50.0|\n",
            "|Electronics|     120.0|    119.09|    119.08|\n",
            "+-----------+----------+----------+----------+\n",
            "\n"
          ]
        }
      ]
    },
    {
      "cell_type": "code",
      "source": [
        "# Сделаем все то же самое, но одной командой\n",
        "\n",
        "df_shrink = df_spark.withColumn(\"avg_revenue\", F.round(F.avg(df_spark['revenue']/df_spark['quantity']) \\\n",
        "                                .over(my_window), 2)) \\\n",
        "                    .groupBy('category') \\\n",
        "                    .pivot('date') \\\n",
        "                    .agg({'avg_revenue':'avg'})\n",
        "df_shrink.show()"
      ],
      "metadata": {
        "colab": {
          "base_uri": "https://localhost:8080/"
        },
        "id": "uM2f6qG5wync",
        "outputId": "2fa7fccf-7089-4e59-eaf9-cd632c925eb5"
      },
      "execution_count": 101,
      "outputs": [
        {
          "output_type": "stream",
          "name": "stdout",
          "text": [
            "+-----------+----------+----------+----------+\n",
            "|   category|2023-11-20|2023-11-21|2023-11-22|\n",
            "+-----------+----------+----------+----------+\n",
            "|      Books|      60.0|      60.0|     58.52|\n",
            "|   Clothing|      50.0|      50.0|      50.0|\n",
            "|Electronics|     120.0|    119.09|    119.08|\n",
            "+-----------+----------+----------+----------+\n",
            "\n"
          ]
        }
      ]
    },
    {
      "cell_type": "code",
      "source": [
        "spark.stop()"
      ],
      "metadata": {
        "id": "anlw2Df2gMvS"
      },
      "execution_count": 102,
      "outputs": []
    }
  ]
}